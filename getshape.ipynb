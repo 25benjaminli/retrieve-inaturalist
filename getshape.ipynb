{
 "cells": [
  {
   "cell_type": "code",
   "execution_count": 1,
   "metadata": {},
   "outputs": [],
   "source": [
    "import requests\n",
    "import json\n",
    "import os\n",
    "import cv2\n",
    "from PIL import Image\n"
   ]
  },
  {
   "cell_type": "code",
   "execution_count": 5,
   "metadata": {},
   "outputs": [],
   "source": [
    "# for Dataset-1 and Dataset-2 folders, store dimensions of each file within each subfolder\n",
    "di = {}\n",
    "for folder in os.listdir('Dataset-1'):\n",
    "    if folder != 'FlowCam Library 2021' and folder != '.DS_Store' and folder != 'FlowCam Library Instructions.docx':\n",
    "        for file in os.listdir(f\"Dataset-1/{folder}\"):\n",
    "            img = Image.open(f\"Dataset-1/{folder}/{file}\")\n",
    "            di[img.size] = di.get(img.size, 0) + 1\n",
    "\n",
    "for folder in os.listdir('Dataset-2'):\n",
    "    if folder != 'FlowCam Library 2021' and folder != '.DS_Store':\n",
    "        for file in os.listdir(f\"Dataset-2/{folder}\"):\n",
    "            img = Image.open(f\"Dataset-2/{folder}/{file}\")\n",
    "            di[img.size] = di.get(img.size, 0) + 1"
   ]
  },
  {
   "cell_type": "code",
   "execution_count": 10,
   "metadata": {},
   "outputs": [
    {
     "name": "stdout",
     "output_type": "stream",
     "text": [
      "[((4912, 3684), 188), ((1228, 922), 11), ((4160, 2336), 9), ((2456, 1842), 3), ((1152, 1043), 2), ((2336, 1649), 1), ((1351, 1419), 1), ((1620, 1640), 1), ((663, 497), 1), ((1848, 1960), 1), ((1936, 2144), 1), ((781, 707), 1), ((1575, 1392), 1), ((1625, 1291), 1), ((1554, 1205), 1), ((1815, 1815), 1), ((2440, 2380), 1), ((4301, 3238), 1), ((2618, 2912), 1), ((1687, 1265), 1), ((2616, 2144), 1), ((4203, 3646), 1), ((3520, 3080), 1), ((3288, 3152), 1), ((2648, 2520), 1), ((2904, 2520), 1), ((1710, 1700), 1), ((720, 505), 1), ((1936, 1460), 1), ((2608, 3296), 1), ((3140, 2410), 1), ((3456, 3024), 1), ((3224, 2400), 1), ((3192, 2760), 1), ((3210, 2450), 1), ((134, 129), 1), ((2469, 1852), 1), ((2032, 2192), 1), ((2144, 2176), 1), ((2272, 2352), 1), ((1776, 1760), 1), ((2096, 2416), 1), ((1824, 2048), 1), ((1704, 1856), 1), ((2576, 2272), 1), ((2060, 2110), 1), ((1765, 1549), 1), ((2456, 2384), 1)]\n"
     ]
    }
   ],
   "source": [
    "l = sorted(list(zip(di.keys(), di.values())), key=lambda x: x[1], reverse=True)\n",
    "print(l)"
   ]
  }
 ],
 "metadata": {
  "kernelspec": {
   "display_name": "webscrape",
   "language": "python",
   "name": "python3"
  },
  "language_info": {
   "codemirror_mode": {
    "name": "ipython",
    "version": 3
   },
   "file_extension": ".py",
   "mimetype": "text/x-python",
   "name": "python",
   "nbconvert_exporter": "python",
   "pygments_lexer": "ipython3",
   "version": "3.9.15"
  },
  "orig_nbformat": 4,
  "vscode": {
   "interpreter": {
    "hash": "5bdfdf4a94b9d78a182717dc0316f3be25f7fd9c7cebd817f0c3b8d29721d43f"
   }
  }
 },
 "nbformat": 4,
 "nbformat_minor": 2
}
