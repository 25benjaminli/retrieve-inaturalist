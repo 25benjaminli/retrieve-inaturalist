{
 "cells": [
  {
   "cell_type": "code",
   "execution_count": null,
   "metadata": {},
   "outputs": [],
   "source": [
    "import requests\n",
    "import json\n",
    "import os\n",
    "import cv2\n",
    "from PIL import Image\n"
   ]
  },
  {
   "cell_type": "code",
   "execution_count": null,
   "metadata": {},
   "outputs": [],
   "source": [
    "# for Dataset-1 and Dataset-2 folders, store dimensions of each file within each subfolder\n",
    "di = {}\n",
    "for folder in os.listdir('Dataset-1'):\n",
    "    if folder != 'FlowCam Library 2021' and folder != '.DS_Store' and folder != 'FlowCam Library Instructions.docx':\n",
    "        for file in os.listdir(f\"Dataset-1/{folder}\"):\n",
    "            img = Image.open(f\"Dataset-1/{folder}/{file}\")\n",
    "            di[img.size] = di.get(img.size, 0) + 1\n",
    "\n",
    "for folder in os.listdir('Dataset-2'):\n",
    "    if folder != 'FlowCam Library 2021' and folder != '.DS_Store':\n",
    "        for file in os.listdir(f\"Dataset-2/{folder}\"):\n",
    "            img = Image.open(f\"Dataset-2/{folder}/{file}\")\n",
    "            di[img.size] = di.get(img.size, 0) + 1"
   ]
  },
  {
   "cell_type": "code",
   "execution_count": null,
   "metadata": {},
   "outputs": [],
   "source": [
    "l = sorted(list(zip(di.keys(), di.values())), key=lambda x: x[1], reverse=True)\n",
    "print(l)"
   ]
  }
 ],
 "metadata": {
  "kernelspec": {
   "display_name": "webscrape",
   "language": "python",
   "name": "python3"
  },
  "language_info": {
   "codemirror_mode": {
    "name": "ipython",
    "version": 3
   },
   "file_extension": ".py",
   "mimetype": "text/x-python",
   "name": "python",
   "nbconvert_exporter": "python",
   "pygments_lexer": "ipython3",
   "version": "3.9.15"
  },
  "vscode": {
   "interpreter": {
    "hash": "5bdfdf4a94b9d78a182717dc0316f3be25f7fd9c7cebd817f0c3b8d29721d43f"
   }
  }
 },
 "nbformat": 4,
 "nbformat_minor": 2
}
