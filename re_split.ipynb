{
 "cells": [
  {
   "cell_type": "code",
   "execution_count": null,
   "metadata": {},
   "outputs": [],
   "source": [
    "import os\n",
    "import shutil\n",
    "import numpy as np"
   ]
  },
  {
   "cell_type": "code",
   "execution_count": null,
   "metadata": {},
   "outputs": [],
   "source": [
    "fol = ['test', 'train', 'valid']\n",
    "\n",
    "base = 'C:/Users/benjaminli/documents/coding/webscrape-inaturalist/'\n",
    "final = 'C:/Users/benjaminli/documents/coding/webscrape-inaturalist/combined_ds'\n",
    "\n",
    "for f in fol:\n",
    "    for img in os.listdir(f'C:/Users/benjaminli/documents/coding/webscrape-inaturalist/b_ds/{f}/images'):\n",
    "        shutil.copy(f'C:/Users/benjaminli/documents/coding/webscrape-inaturalist/b_ds/{f}/images/{img}', f'{final}/images/{img}')\n",
    "    for label in os.listdir(f'b_ds/{f}/labels'):\n",
    "        shutil.copy(f'C:/Users/benjaminli/documents/coding/webscrape-inaturalist/b_ds/{f}/labels/{label}', f'{final}/labels/{label}')"
   ]
  },
  {
   "cell_type": "code",
   "execution_count": null,
   "metadata": {},
   "outputs": [],
   "source": [
    "path = os.getcwd()\n",
    "names = ['anabaena', 'aphanizomenon', 'detritus', 'dolichospermum', 'microcystis', 'oscillatoria', 'synechococcus', 'water bubble', 'woronichinia']\n",
    "names_with_freqs = [0 for i in range(len(names))]\n",
    "x=0\n",
    "for label in os.listdir(path + \"/combined_ds/labels\"):\n",
    "    # organize everything into folders based on\n",
    "    \n",
    "    with open(path + f\"/combined_ds/labels/{label}\") as file:\n",
    "        # read first line\n",
    "        asdf = file.readline().split(\" \")[0]\n",
    "        print(asdf)\n",
    "        try:\n",
    "            numval = int(asdf)\n",
    "            print(numval)\n",
    "            real_name = names[numval]\n",
    "            # create folder if it doesn't exist\n",
    "            if not os.path.exists(path + f\"/org_ds/{real_name}\"):\n",
    "                os.mkdir(path + f\"/org_ds/{real_name}\")\n",
    "            # move image and label to folder\n",
    "            shutil.copy(path + f\"/combined_ds/images/{label[:-4]}.jpg\", path + f\"/org_ds/{real_name}/{f'{real_name}_{names_with_freqs[numval]+1}'}.jpg\")\n",
    "            x+=1\n",
    "            names_with_freqs[numval] += 1\n",
    "            # copy the label file to labels folder\n",
    "            shutil.copy(path + f\"/combined_ds/labels/{label}\", path + f\"/org_ds/labels/{f'{real_name}_{names_with_freqs[numval]}'}.txt\")\n",
    "        except:\n",
    "            print(\"failure\")\n",
    "            # label does not exist\n",
    "print(x)"
   ]
  },
  {
   "cell_type": "code",
   "execution_count": null,
   "metadata": {},
   "outputs": [],
   "source": [
    "names = ['anabaena', 'aphanizomenon', 'detritus', 'dolichospermum', 'microcystis', 'oscillatoria', 'synechococcus', 'water bubble', 'woronichinia']\n",
    "path = os.getcwd()\n",
    "\n",
    "ftrain, fval, ftest = np.array([]), np.array([]), np.array([])\n",
    "# stratify splitting of data\n",
    "for name in names:\n",
    "    allFileNames = os.listdir(path + f\"/org_ds/{name}\")\n",
    "    print(len(allFileNames))\n",
    "\n",
    "    np.random.shuffle(allFileNames)\n",
    "\n",
    "    train, val, test = np.split(np.array(allFileNames),[int(len(allFileNames)*0.8), int(len(allFileNames)*0.9)])\n",
    "    print(len(train), len(val), len(test))\n",
    "\n",
    "    ftrain = np.concatenate((ftrain, train))\n",
    "    fval = np.concatenate((fval, val))\n",
    "    ftest = np.concatenate((ftest, test))"
   ]
  },
  {
   "cell_type": "code",
   "execution_count": null,
   "metadata": {},
   "outputs": [],
   "source": [
    "print(len(ftrain), len(fval), len(ftest))"
   ]
  },
  {
   "cell_type": "code",
   "execution_count": null,
   "metadata": {},
   "outputs": [],
   "source": [
    "names = ['anabaena', 'aphanizomenon', 'detritus', 'dolichospermum', 'microcystis', 'oscillatoria', 'synechococcus', 'water bubble', 'woronichinia']\n",
    "name_counter = [0 for i in range(len(names))]\n",
    "for f in ftrain:\n",
    "    for n in names:\n",
    "        if n in f:\n",
    "            name_counter[names.index(n)] += 1\n",
    "\n",
    "asdfasdf = 0\n",
    "for name in range(len(names)):\n",
    "    print(names[name], name_counter[name])\n",
    "    asdfasdf += name_counter[name]\n",
    "print(asdfasdf)"
   ]
  },
  {
   "cell_type": "code",
   "execution_count": null,
   "metadata": {},
   "outputs": [],
   "source": [
    "# re-organize everything back into same format\n",
    "\n",
    "splits = ['test', 'train', 'valid']\n",
    "if not os.path.exists(path + \"/final_ds\"):\n",
    "    os.mkdir(path + \"/final_ds\")\n",
    "\n",
    "for split in splits:\n",
    "    if not os.path.exists(path + f\"/final_ds/{split}\"):\n",
    "        os.mkdir(path + f\"/final_ds/{split}\")    \n",
    "    if not os.path.exists(path + f\"/final_ds/{split}/images\"):\n",
    "        os.mkdir(path + f\"/final_ds/{split}/images\")\n",
    "    if not os.path.exists(path + f\"/final_ds/{split}/labels\"):\n",
    "        os.mkdir(path + f\"/final_ds/{split}/labels\")\n",
    "    \n",
    "    thing = ftrain if split == 'train' else fval if split == 'val' else ftest\n",
    "    print(thing)\n",
    "    for file in thing:\n",
    "        c = file.split(\"_\")[0]\n",
    "        shutil.copy(path + f\"/org_ds/{c}/{file}\", path + f\"/final_ds/{split}/images/{file}\")\n",
    "        shutil.copy(path + f\"/org_ds/labels/{file[:-4]}.txt\", path + f\"/final_ds/{split}/labels/{file[:-4]}.txt\")"
   ]
  },
  {
   "cell_type": "code",
   "execution_count": null,
   "metadata": {},
   "outputs": [],
   "source": [
    "# add data.yaml file\n",
    "with open(path + \"/final_ds/data.yaml\", \"w\") as file:\n",
    "    file.write(\"train: final_ds/train/images\")\n",
    "    file.write(\"val: final_ds/val/images\")\n",
    "    file.write(\"nc: 9\")\n",
    "    file.write(\"names: ['anabaena', 'aphanizomenon', 'detritus', 'dolichospermum', 'microcystis', 'oscillatoria', 'synechococcus', 'water bubble', 'woronichinia']\")"
   ]
  },
  {
   "cell_type": "code",
   "execution_count": null,
   "metadata": {},
   "outputs": [],
   "source": [
    "print(len(os.listdir(path + \"/final_ds/train/images\")))"
   ]
  },
  {
   "cell_type": "code",
   "execution_count": null,
   "metadata": {},
   "outputs": [],
   "source": [
    "def rebalance_dataset():\n",
    "    pass"
   ]
  }
 ],
 "metadata": {
  "kernelspec": {
   "display_name": "webscrape",
   "language": "python",
   "name": "python3"
  },
  "language_info": {
   "codemirror_mode": {
    "name": "ipython",
    "version": 3
   },
   "file_extension": ".py",
   "mimetype": "text/x-python",
   "name": "python",
   "nbconvert_exporter": "python",
   "pygments_lexer": "ipython3",
   "version": "3.9.15"
  },
  "vscode": {
   "interpreter": {
    "hash": "5bdfdf4a94b9d78a182717dc0316f3be25f7fd9c7cebd817f0c3b8d29721d43f"
   }
  }
 },
 "nbformat": 4,
 "nbformat_minor": 2
}
