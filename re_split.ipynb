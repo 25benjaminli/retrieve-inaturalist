{
 "cells": [
  {
   "cell_type": "code",
   "execution_count": null,
   "metadata": {},
   "outputs": [],
   "source": [
    "import os\n",
    "import shutil\n",
    "import numpy as np"
   ]
  },
  {
   "attachments": {},
   "cell_type": "markdown",
   "metadata": {},
   "source": [
    "### Load functions"
   ]
  },
  {
   "cell_type": "code",
   "execution_count": null,
   "metadata": {},
   "outputs": [],
   "source": [
    "path = os.getcwd()"
   ]
  },
  {
   "cell_type": "code",
   "execution_count": null,
   "metadata": {},
   "outputs": [],
   "source": [
    "def move_to_combined():\n",
    "    splits = ['test', 'train', 'valid']\n",
    "\n",
    "    if os.path.exists(path + f\"/combined_ds\"):\n",
    "        shutil.rmtree(path + f\"/combined_ds\")\n",
    "    os.mkdir(path + f\"/combined_ds\")\n",
    "    os.mkdir(path + f\"/combined_ds/images\")\n",
    "    os.mkdir(path + f\"/combined_ds/labels\")\n",
    "\n",
    "    \n",
    "    for split in splits:\n",
    "        for img in os.listdir(f'{path}/b_ds/{split}/images'):\n",
    "            shutil.copy(f'{path}/b_ds/{split}/images/{img}', f'{path}/combined_ds/images/{img}')\n",
    "        for label in os.listdir(f'{path}/b_ds/{split}/labels'):\n",
    "            shutil.copy(f'{path}/b_ds/{split}/labels/{label}', f'{path}/combined_ds/labels/{label}')"
   ]
  },
  {
   "cell_type": "code",
   "execution_count": null,
   "metadata": {},
   "outputs": [],
   "source": [
    "def organize_to_names():\n",
    "    names = ['anabaena', 'aphanizomenon', 'detritus', 'dolichospermum', 'microcystis', 'oscillatoria', 'synechococcus', 'water bubble', 'woronichinia']\n",
    "    names_with_freqs = [0 for i in range(len(names))]\n",
    "    x=0\n",
    "\n",
    "    for name in names:\n",
    "        if os.path.exists(path + f\"/org_ds/{name}\"):\n",
    "            shutil.rmtree(path + f\"/org_ds/{name}\")\n",
    "        os.makedirs(path + f\"/org_ds/{name}\")\n",
    "    \n",
    "    if os.path.exists(path + f\"/org_ds/labels\"):\n",
    "            shutil.rmtree(path + f\"/org_ds/labels\")\n",
    "    os.makedirs(path + f\"/org_ds/labels\")\n",
    "    \n",
    "    for label in os.listdir(path + \"/combined_ds/labels\"):\n",
    "        # organize everything into folders based on\n",
    "        \n",
    "        with open(path + f\"/combined_ds/labels/{label}\") as file:\n",
    "            # read first line\n",
    "            asdf = file.readline().split(\" \")[0]\n",
    "            # print(asdf)\n",
    "            try:\n",
    "                numval = int(asdf)\n",
    "                real_name = names[numval]\n",
    "                \n",
    "                # move image and label to folder\n",
    "                names_with_freqs[numval] += 1\n",
    "\n",
    "                shutil.copy(path + f\"/combined_ds/images/{label[:-4]}.jpg\", path + f\"/org_ds/{real_name}/{f'{real_name}_{names_with_freqs[numval]}'}.jpg\")\n",
    "                shutil.copy(path + f\"/combined_ds/labels/{label}\", path + f\"/org_ds/labels/{f'{real_name}_{names_with_freqs[numval]}'}.txt\")\n",
    "                x+=1\n",
    "            except:\n",
    "                # label does not exist\n",
    "                continue\n",
    "    print(x)"
   ]
  },
  {
   "cell_type": "code",
   "execution_count": null,
   "metadata": {},
   "outputs": [],
   "source": [
    "def get_train_val_test_splits():\n",
    "    names = ['anabaena', 'aphanizomenon', 'detritus', 'dolichospermum', 'microcystis', 'oscillatoria', 'synechococcus', 'water bubble', 'woronichinia']\n",
    "    path = os.getcwd()\n",
    "\n",
    "    ftrain, fval, ftest = np.array([]), np.array([]), np.array([])\n",
    "    # stratify splitting of data\n",
    "    for name in names:\n",
    "        allFileNames = os.listdir(path + f\"/org_ds/{name}\")\n",
    "        np.random.seed(42)\n",
    "        np.random.shuffle(allFileNames)\n",
    "\n",
    "        train, val, test = np.split(np.array(allFileNames),[int(len(allFileNames)*0.8), int(len(allFileNames)*0.9)])\n",
    "\n",
    "        ftrain = np.concatenate((ftrain, train))\n",
    "        fval = np.concatenate((fval, val))\n",
    "        ftest = np.concatenate((ftest, test))\n",
    "    print(\"final lengths after stratified split: \", len(ftrain), len(fval), len(ftest))\n",
    "    \n",
    "    return ftrain, fval, ftest"
   ]
  },
  {
   "cell_type": "code",
   "execution_count": null,
   "metadata": {},
   "outputs": [],
   "source": [
    "def check_freqs(ftrain, fval, ftest):\n",
    "    names = ['anabaena', 'aphanizomenon', 'detritus', 'dolichospermum', 'microcystis', 'oscillatoria', 'synechococcus', 'water bubble', 'woronichinia']\n",
    "    splits = [ftrain, fval, ftest]\n",
    "    print(\"printing frequency information\")\n",
    "    print(len(ftrain), len(fval), len(ftest))\n",
    "    print(len(ftrain)/(len(ftrain)+len(fval)+len(ftest)))\n",
    "    for split in splits:\n",
    "        name_counter = [0 for i in range(len(names))]\n",
    "        print(\"split\", split)\n",
    "        for f in split:\n",
    "            for n in names:\n",
    "                if n in f:\n",
    "                    name_counter[names.index(n)] += 1\n",
    "\n",
    "        asdfasdf = 0\n",
    "        for name in range(len(names)):\n",
    "            print(names[name], name_counter[name])\n",
    "            asdfasdf += name_counter[name]\n",
    "        print(asdfasdf)"
   ]
  },
  {
   "cell_type": "code",
   "execution_count": null,
   "metadata": {},
   "outputs": [],
   "source": [
    "def reorganize_to_final(ftrain, fval, ftest):\n",
    "    splits = ['train', 'valid', 'test']\n",
    "    \n",
    "    # clear existing final ds\n",
    "    if os.path.exists(path + \"/final_ds\"):\n",
    "        shutil.rmtree(path + \"/final_ds\")\n",
    "    os.mkdir(path + \"/final_ds\")\n",
    "    \n",
    "    for split in splits:\n",
    "        os.mkdir(path + f\"/final_ds/{split}\")\n",
    "        os.mkdir(path + f\"/final_ds/{split}/images\")\n",
    "        os.mkdir(path + f\"/final_ds/{split}/labels\")\n",
    "        \n",
    "        if split == 'train':\n",
    "            thing = ftrain\n",
    "        elif split == 'valid':\n",
    "            thing = fval\n",
    "        elif split == 'test':\n",
    "            thing = ftest\n",
    "        \n",
    "        for file in thing:\n",
    "            c = file.split(\"_\")[0] # class name\n",
    "            shutil.copy(path + f\"/org_ds/{c}/{file}\", path + f\"/final_ds/{split}/images/{file}\")\n",
    "            shutil.copy(path + f\"/org_ds/labels/{file[:-4]}.txt\", path + f\"/final_ds/{split}/labels/{file[:-4]}.txt\")\n",
    "\n",
    "    # add data.yaml file\n",
    "    with open(path + \"/final_ds/data.yaml\", \"w\") as file:\n",
    "        file.write(\"train: final_ds/train/images\"+\"\\n\")\n",
    "        file.write(\"test: final_ds/test/images\"+\"\\n\")\n",
    "        file.write(\"val: final_ds/valid/images\"+\"\\n\")\n",
    "        file.write(\"nc: 9\"+\"\\n\")\n",
    "        file.write(\"names: ['anabaena', 'aphanizomenon', 'detritus', 'dolichospermum', 'microcystis', 'oscillatoria', 'synechococcus', 'water bubble', 'woronichinia']\")"
   ]
  },
  {
   "cell_type": "code",
   "execution_count": null,
   "metadata": {},
   "outputs": [],
   "source": [
    "def rebalance_dataset():\n",
    "    move_to_combined()\n",
    "    organize_to_names()\n",
    "    ftrain, fval, ftest = get_train_val_test_splits()\n",
    "    # check_freqs(ftrain, fval, ftest)\n",
    "    print(fval)\n",
    "    print(ftest)\n",
    "    \n",
    "    reorganize_to_final(ftrain, fval, ftest)\n",
    "    # send to zip\n",
    "    shutil.make_archive(\"final_ds\", 'zip', path + \"/final_ds\")"
   ]
  },
  {
   "cell_type": "code",
   "execution_count": null,
   "metadata": {},
   "outputs": [],
   "source": [
    "rebalance_dataset()\n",
    "# print(len(os.listdir(path + \"/final_ds/train/images\")))\n",
    "# print(len(os.listdir(path + \"/final_ds/valid/images\")))\n",
    "# print(len(os.listdir(path + \"/final_ds/test/images\")))"
   ]
  },
  {
   "cell_type": "code",
   "execution_count": null,
   "metadata": {},
   "outputs": [],
   "source": [
    "print(len(os.listdir(path + \"/final_ds/train/images\")))\n",
    "print(len(os.listdir(path + \"/final_ds/valid/images\")))\n",
    "print(len(os.listdir(path + \"/final_ds/test/images\")))"
   ]
  },
  {
   "cell_type": "code",
   "execution_count": null,
   "metadata": {},
   "outputs": [],
   "source": [
    "check_freqs(ftrain, fval, ftest)"
   ]
  }
 ],
 "metadata": {
  "kernelspec": {
   "display_name": "webscrape",
   "language": "python",
   "name": "python3"
  },
  "language_info": {
   "codemirror_mode": {
    "name": "ipython",
    "version": 3
   },
   "file_extension": ".py",
   "mimetype": "text/x-python",
   "name": "python",
   "nbconvert_exporter": "python",
   "pygments_lexer": "ipython3",
   "version": "3.9.15"
  },
  "vscode": {
   "interpreter": {
    "hash": "5bdfdf4a94b9d78a182717dc0316f3be25f7fd9c7cebd817f0c3b8d29721d43f"
   }
  }
 },
 "nbformat": 4,
 "nbformat_minor": 2
}
