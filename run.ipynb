{
 "cells": [
  {
   "cell_type": "code",
   "execution_count": null,
   "metadata": {},
   "outputs": [],
   "source": [
    "import requests\n",
    "import json\n",
    "import os\n",
    "import cv2\n",
    "from PIL import Image\n",
    "import shutil\n",
    "import pandas as pd\n",
    "\n",
    "names = ['aphanizomenon', 'detritus', 'dolichospermum', 'microcystis', 'oscillatoria', 'water bubble', 'woronichinia']"
   ]
  },
  {
   "cell_type": "code",
   "execution_count": null,
   "metadata": {},
   "outputs": [],
   "source": [
    "def retrieve_existing_labels(base = 'images', export = 'new_images', existing = 'b_ds'):\n",
    "    if not os.path.exists(export):\n",
    "        os.makedirs(export)\n",
    "    else:\n",
    "        shutil.rmtree(export)\n",
    "        os.makedirs(export)\n",
    "    found = 0\n",
    "    \n",
    "    for genus in os.listdir(base):\n",
    "        if genus == \".DS_Store\" or genus == 'backgrounds':\n",
    "            continue\n",
    "        \n",
    "        if not os.path.exists(f\"{export}/{genus}\"):\n",
    "                os.makedirs(f\"{export}/{genus}\")\n",
    "        else:\n",
    "            shutil.rmtree(f\"{export}/{genus}\")\n",
    "            os.makedirs(f\"{export}/{genus}\")\n",
    "\n",
    "        if not os.path.exists(f\"{export}/{genus}/images\"):\n",
    "            os.makedirs(f\"{export}/{genus}/images\")\n",
    "        else:\n",
    "            shutil.rmtree(f\"{export}/{genus}/images\")\n",
    "            os.makedirs(f\"{export}/{genus}/images\")\n",
    "        \n",
    "        if not os.path.exists(f\"{export}/{genus}/labels\"):\n",
    "            os.makedirs(f\"{export}/{genus}/labels\")\n",
    "        else:\n",
    "            shutil.rmtree(f\"{export}/{genus}/labels\")\n",
    "            os.makedirs(f\"{export}/{genus}/labels\")\n",
    "        for image in os.listdir(f\"{base}/{genus}\"):\n",
    "            image_name, image_ext = os.path.splitext(image)\n",
    "            # if folder images and labels don't exist, create them\n",
    "            \n",
    "            \n",
    "            # copy image to images folder\n",
    "            shutil.copy(f\"{base}/{genus}/{image}\", f\"{export}/{genus}/images/{image}\")\n",
    "\n",
    "            \n",
    "            for split in ['train', 'valid', 'test']:\n",
    "                for label in os.listdir(f'{existing}/{split}/labels'):\n",
    "                    label_name, label_ext = os.path.splitext(label)\n",
    "\n",
    "                    if label == \".DS_Store\":\n",
    "                        continue\n",
    "                    try:\n",
    "                        if label_name in image_name:\n",
    "                            # normal picture\n",
    "                            shutil.copy(f\"{existing}/{split}/labels/{label}\", f\"{export}/{genus}/labels/{label}\")\n",
    "                    except:\n",
    "                        if label_name in image_name:\n",
    "                            # is a lab picture\n",
    "                            shutil.copy(f\"{existing}/{split}/labels/{label}\", f\"{export}/{genus}/labels/{image_name}.txt\")\n",
    "                            found += 1\n",
    "            \n",
    "    print(\"found\", found)"
   ]
  },
  {
   "cell_type": "code",
   "execution_count": null,
   "metadata": {},
   "outputs": [],
   "source": [
    "retrieve_existing_labels(base = 'images', export = 'new_images', existing = 'b_ds')"
   ]
  },
  {
   "cell_type": "code",
   "execution_count": null,
   "metadata": {},
   "outputs": [],
   "source": [
    "# get all images from images folder and put it into a set\n",
    "images_set = set()\n",
    "for c in os.listdir(\"images\"):\n",
    "    if c == \".DS_Store\":\n",
    "        continue\n",
    "    for image in os.listdir(f\"images/{c}\"):\n",
    "        name, ext = os.path.splitext(image)\n",
    "        images_set.add(name)\n",
    "print(images_set)"
   ]
  },
  {
   "cell_type": "code",
   "execution_count": null,
   "metadata": {},
   "outputs": [],
   "source": [
    "x = 0\n",
    "l = 0\n",
    "currset = set([])\n",
    "for genus in os.listdir('images'):\n",
    "    if genus == \".DS_Store\":\n",
    "        continue\n",
    "\n",
    "    for image in os.listdir(f\"images/{genus}\"):\n",
    "        n, ext = os.path.splitext(image)\n",
    "        print(n)\n",
    "        if n in currset:\n",
    "            print('currset', n)\n",
    "            continue\n",
    "        if n in cannot_use:\n",
    "            print(n)\n",
    "            x+=1\n",
    "        else:\n",
    "            l +=1\n",
    "        \n",
    "        currset.add(n)\n",
    "print(x)\n",
    "print(l)"
   ]
  },
  {
   "cell_type": "code",
   "execution_count": null,
   "metadata": {},
   "outputs": [],
   "source": [
    "print(len(os.listdir('images/oscillatoria')))"
   ]
  },
  {
   "cell_type": "code",
   "execution_count": null,
   "metadata": {},
   "outputs": [],
   "source": [
    "# 17802507, \n",
    "for file in os.listdir('images/aphanizomenon'):\n",
    "    name, ext = os.path.splitext(file)\n",
    "    print(name)\n"
   ]
  },
  {
   "cell_type": "code",
   "execution_count": null,
   "metadata": {},
   "outputs": [],
   "source": [
    "print(licenses.keys())\n",
    "\n",
    "# get unique authors and their corresponding images\n",
    "authors = {}\n",
    "\n",
    "for license_type in licenses:\n",
    "    for author in licenses[license_type]:\n",
    "        if author not in authors:\n",
    "            authors[author] = []\n",
    "        \n",
    "        for image, image_link in licenses[license_type][author].items():\n",
    "            authors[author].append(image)\n",
    "\n",
    "\n",
    "for author in authors:\n",
    "    print(author)\n",
    "    print(len(authors[author]))\n",
    "\n",
    "\n",
    "# send authors dictionary to json file\n",
    "with open('authors.json', 'w') as f:\n",
    "    json.dump(authors, f)\n"
   ]
  },
  {
   "cell_type": "code",
   "execution_count": null,
   "metadata": {},
   "outputs": [],
   "source": [
    "x = requests.get(f\"https://api.inaturalist.org/v1/observations?photos=true&q=Microcystis&search_on=names&quality_grade=research&order=desc&order_by=created_at&per_page=100&page=1\")\n",
    "x = x.json()\n",
    "\n",
    "ct = int(x['total_results']) # counter for number of images to collect\n",
    "\n",
    "\n",
    "count = 1\n",
    "print(len(x['results']))\n",
    "\n",
    "for observation in x['results']:\n",
    "    photos = observation['photos']\n",
    "    for i in range(len(photos)):\n",
    "        photo = photos[i]\n",
    "        url = photos[i]['url']\n",
    "        # res[i] = res[i].index(\"square\")\n",
    "        print(photo)\n",
    "        "
   ]
  },
  {
   "cell_type": "code",
   "execution_count": null,
   "metadata": {},
   "outputs": [],
   "source": [
    "print(len(images_set))"
   ]
  },
  {
   "cell_type": "code",
   "execution_count": null,
   "metadata": {},
   "outputs": [],
   "source": [
    "# create copy of b_ds folder\n",
    "if os.path.exists(\"b_ds_need_label\"):\n",
    "    shutil.rmtree(\"b_ds_need_label\")\n",
    "\n",
    "shutil.copytree(\"b_ds\", \"b_ds_need_label\")"
   ]
  },
  {
   "cell_type": "code",
   "execution_count": null,
   "metadata": {},
   "outputs": [],
   "source": [
    "# send all water bubble and detritus images to images/water bubble and images/detritus\n",
    "for c in os.listdir(\"b_ds\"):\n",
    "    if c == \"test\" or c == \"train\" or c == \"valid\":\n",
    "        for image in os.listdir(f\"b_ds/{c}/images\"):\n",
    "            name, ext = os.path.splitext(image)\n",
    "            if 'WaterBubble' in name:\n",
    "                shutil.copy(f\"b_ds/{c}/images/{image}\", f\"images/water_bubble/{image}\")\n",
    "            elif 'Detritus' in name:\n",
    "                shutil.copy(f\"b_ds/{c}/images/{image}\", f\"images/detritus/{image}\")"
   ]
  },
  {
   "cell_type": "code",
   "execution_count": null,
   "metadata": {},
   "outputs": [],
   "source": [
    "print(len(os.listdir(\"images/water_bubble\")))\n",
    "print(len(os.listdir(\"images/detritus\")))"
   ]
  },
  {
   "cell_type": "code",
   "execution_count": null,
   "metadata": {},
   "outputs": [],
   "source": [
    "print(len(os.listdir('images/aphanizomenon')) + len(os.listdir('images/dolichospermum')) + len(os.listdir('images/microcystis')) + len(os.listdir('images/oscillatoria')) + len(os.listdir('images/woronichinia')))\n",
    "\n",
    "print('NP_WaterBubble_075.jpg' in os.listdir('images/aphanizomenon'))\n",
    "print('NP_WaterBubble_075.jpg' in os.listdir('images/dolichospermum'))\n",
    "print('NP_WaterBubble_075.jpg' in os.listdir('images/microcystis'))\n",
    "print('NP_WaterBubble_075.jpg' in os.listdir('images/oscillatoria'))\n",
    "print('NP_WaterBubble_075.jpg' in os.listdir('images/woronichinia'))"
   ]
  },
  {
   "cell_type": "code",
   "execution_count": null,
   "metadata": {},
   "outputs": [],
   "source": [
    "#"
   ]
  },
  {
   "cell_type": "code",
   "execution_count": null,
   "metadata": {},
   "outputs": [],
   "source": [
    "\n",
    "# check for intersection \n",
    "x = 0\n",
    "actual_set = set()\n",
    "for split in os.listdir('b_ds'):\n",
    "    if split == 'test' or split == 'train' or split == 'valid':\n",
    "        print(split)\n",
    "        for image in os.listdir(f'b_ds/{split}/images'):\n",
    "            # rename image at this path to remove \"_jpg\"\n",
    "            # get index of \"_jpg\"\n",
    "            name, ext = os.path.splitext(image)\n",
    "            # if it has not been labeled yet, add it to the set\n",
    "            if name in images_set or 'WaterBubble' in name or 'Detritus' in name:\n",
    "                x += 1\n",
    "                actual_set.add(image)\n",
    "\n",
    "                # TODO: add corresponding label to labels folder\n",
    "                \n",
    "            else:\n",
    "                # send to testing folder\n",
    "                # print(image)\n",
    "                pass\n",
    "\n",
    "print(x)"
   ]
  },
  {
   "cell_type": "code",
   "execution_count": null,
   "metadata": {},
   "outputs": [],
   "source": [
    "print(actual_set)"
   ]
  },
  {
   "cell_type": "code",
   "execution_count": null,
   "metadata": {},
   "outputs": [],
   "source": [
    "# 18-08-20-AGL-DEP-SRCP-microcystis_jpg.rf.7441f86b59469b8d204133277d98871d.jpg\n",
    "s = \"18-08-20-AGL-DEP-SRCP-microcystis_jpg.rf.7441f86b59469b8d204133277d98871d.jpg\"\n",
    "index = s.find(\"_jpg\")\n"
   ]
  },
  {
   "cell_type": "code",
   "execution_count": null,
   "metadata": {},
   "outputs": [],
   "source": [
    "# clean up roboflow imported dataset\n",
    "def clean_roboflow_dataset():\n",
    "    # get index of \"_jpg\" \n",
    "    for split in os.listdir('b_ds'):\n",
    "        if split == 'test' or split == 'train' or split == 'valid':\n",
    "            print(split)\n",
    "            for image in os.listdir(f'b_ds/{split}/images'):\n",
    "                # rename image at this path to remove \"_jpg\"\n",
    "                # get index of \"_jpg\"\n",
    "                name, ext = os.path.splitext(image)\n",
    "                new_image = image[:image.rfind('_')] + ext\n",
    "                # replace current image with new image\n",
    "                # get image path\n",
    "\n",
    "                os.rename(f'b_ds/{split}/images/{image}', f'b_ds/{split}/images/{new_image}')\n",
    "            \n",
    "            for label in os.listdir(f'b_ds/{split}/labels'):\n",
    "                # rename label at this path to remove \"_txt\"\n",
    "                # get index of \"_txt\"\n",
    "                name, ext = os.path.splitext(label)\n",
    "                new_label = label[:label.rfind('_')] + ext\n",
    "                \n",
    "                os.rename(f'b_ds/{split}/labels/{label}', f'b_ds/{split}/labels/{new_label}')\n",
    "\n",
    "clean_roboflow_dataset()"
   ]
  },
  {
   "cell_type": "code",
   "execution_count": null,
   "metadata": {},
   "outputs": [],
   "source": [
    "names = ['aphanizomenon', 'detritus', 'dolichospermum', 'microcystis', 'oscillatoria', 'water bubble', 'woronichinia']"
   ]
  },
  {
   "cell_type": "code",
   "execution_count": null,
   "metadata": {},
   "outputs": [],
   "source": [
    "def get_taxon_test(taxon, page=1, licenses={}, authors = {}):\n",
    "    \n",
    "    orig_x = requests.get(f\"https://api.inaturalist.org/v1/observations?photos=true&taxon_name={taxon}&quality_grade=research&per_page=100&page={page}\").json()\n",
    "    x = orig_x['results']\n",
    "    print(len(x))\n",
    "    print(orig_x['total_results'])\n",
    "\n",
    "    if not os.path.exists(f'images/{taxon}'):\n",
    "        os.makedirs(f'images/{taxon}')\n",
    "\n",
    "    else:\n",
    "        # destroy existing folder\n",
    "        shutil.rmtree(f'images/{taxon}')\n",
    "        os.makedirs(f'images/{taxon}')\n",
    "\n",
    "    curr_obs = orig_x['total_results']\n",
    "\n",
    "    if curr_obs > 0 and len(x) > 0:\n",
    "        for observation in x:\n",
    "            photos = observation['photos']\n",
    "            for i in range(len(photos)):\n",
    "                url = photos[i]['url']\n",
    "                photo = photos[i]\n",
    "                \n",
    "                licenses[photo['license_code']] = licenses.get(photo['license_code'], {})\n",
    "                print(licenses[photo['license_code']])\n",
    "\n",
    "                licenses[photo['license_code']][photo['attribution']] = licenses[photo['license_code']].get(photo['attribution'], {})\n",
    "\n",
    "                # store image and path under each author\n",
    "                licenses[photo['license_code']][photo['attribution']][f'{taxon}-{url.split(\"/\")[-2]}-{url.split(\"/\")[-1]}'] = url\n",
    "\n",
    "                \n",
    "                file = open(f'images/{taxon}/{taxon}-{url.split(\"/\")[-2]}-{url.split(\"/\")[-1]}', 'wb')\n",
    "                file.write(requests.get(url).content)\n",
    "                file.close()\n",
    "                \n",
    "\n",
    "            curr_obs-=1\n",
    "\n",
    "        print(licenses)\n",
    "        print(authors)\n",
    "\n",
    "        get_taxon_test(taxon, page+1, licenses, authors)"
   ]
  },
  {
   "cell_type": "code",
   "execution_count": null,
   "metadata": {},
   "outputs": [],
   "source": [
    "print(len(os.listdir('images/microcystis')))"
   ]
  },
  {
   "cell_type": "code",
   "execution_count": null,
   "metadata": {},
   "outputs": [],
   "source": [
    "# add background images - all fetched from local storage\n",
    "\n",
    "def add_backgrounds():\n",
    "    # get from Bacteria Dataset\n",
    "    failed_count = 0\n",
    "    for genus in os.listdir('Bacteria Dataset/Dataset-1'):\n",
    "        if genus == '.DS_Store' or (genus in names):\n",
    "            continue\n",
    "\n",
    "        for img in os.listdir(f'Bacteria Dataset/Dataset-1/{genus}'):\n",
    "            if img == '.DS_Store':\n",
    "                continue\n",
    "            # move image to respective folders\n",
    "            name, ext = os.path.splitext(img)\n",
    "            \n",
    "            im = Image.open(f'Bacteria Dataset/Dataset-1/{genus}/{img}')\n",
    "            \n",
    "            try:\n",
    "                rgb_im = im.convert('RGB')\n",
    "                rgb_im.save(f'images/backgrounds/{name}_background.jpg')\n",
    "            except:\n",
    "                failed_count+=1\n",
    "\n",
    "    \n",
    "    for genus in os.listdir('Bacteria Dataset/Dataset-2'):\n",
    "        if genus == '.DS_Store' or (genus in names):\n",
    "            continue\n",
    "        \n",
    "        for img in os.listdir(f'Bacteria Dataset/Dataset-2/{genus}'):\n",
    "            if img == '.DS_Store':\n",
    "                continue\n",
    "            # move image to respective folders\n",
    "            name, ext = os.path.splitext(img)\n",
    "\n",
    "            im = Image.open(f'Bacteria Dataset/Dataset-2/{genus}/{img}')\n",
    "            \n",
    "            try:\n",
    "                rgb_im = im.convert('RGB')\n",
    "                rgb_im.save(f'images/backgrounds/{name}_background.jpg')\n",
    "            except:\n",
    "                failed_count+=1\n",
    "    \n",
    "\n",
    "    \n",
    "    print('failed conversion of', failed_count)"
   ]
  },
  {
   "cell_type": "code",
   "execution_count": null,
   "metadata": {},
   "outputs": [],
   "source": [
    "# get total number of items\n",
    "# size: square, medium, large\n",
    "def get_taxon(taxon, licenses = {}, useNums = False, base = 'images', remove = True):\n",
    "    # revert back to before and compare images to see if they are the same\n",
    "    page=1\n",
    "    x = requests.get(f\"https://api.inaturalist.org/v1/observations?photos=true&taxon_name={taxon}&quality_grade=research&per_page=100&page={page}\")\n",
    "    x = x.json()\n",
    "\n",
    "    ct = int(x['total_results']) # counter for number of images to collect\n",
    "    if remove:\n",
    "        if not os.path.exists(f'{base}/{taxon}'):\n",
    "            os.makedirs(f'{base}/{taxon}')\n",
    "\n",
    "        else:\n",
    "            # destroy existing folder\n",
    "            shutil.rmtree(f'{base}/{taxon}')\n",
    "            os.makedirs(f'{base}/{taxon}')\n",
    "\n",
    "    \n",
    "    count = 1\n",
    "    while len(x['results']) != 0:\n",
    "        print(len(x['results']))\n",
    "        for observation in x['results']:\n",
    "            photos = observation['photos']\n",
    "            for i in range(len(photos)):\n",
    "                photo = photos[i]\n",
    "                url = photos[i]['url']\n",
    "                # res[i] = res[i].index(\"square\")\n",
    "\n",
    "                url = url.replace(\"square\", \"original\")\n",
    "                \n",
    "                name, extension = os.path.splitext(url)\n",
    "\n",
    "                \n",
    "                if photo['license_code'] != None:\n",
    "                    response = requests.get(url, stream=True)\n",
    "                    if not useNums:\n",
    "                        with open(f'{base}/{taxon}/{taxon}-{url.split(\"/\")[-2]}-{url.split(\"/\")[-1]}', 'wb') as out_file:\n",
    "                            shutil.copyfileobj(response.raw, out_file)\n",
    "                        del response\n",
    "                    else:\n",
    "                        with open(f'{base}/{taxon}/{taxon}-{count}{extension}', 'wb') as out_file:\n",
    "                            shutil.copyfileobj(response.raw, out_file)\n",
    "                        del response\n",
    "                        count+=1\n",
    "                    \n",
    "                    # convert image to RGB if it is not\n",
    "                    # check if the current photo is not jpg\n",
    "\n",
    "                    \n",
    "                    # rgb_im.save(f'finalimages/{taxon}/{taxon}-{url.split(\"/\")[-2]}-{url.split(\"/\")[-1]}')\n",
    "                \n",
    "                # store authors under each license\n",
    "\n",
    "                licenses[photo['license_code']] = licenses.get(photo['license_code'], {})\n",
    "\n",
    "                licenses[photo['license_code']][photo['attribution']] = licenses[photo['license_code']].get(photo['attribution'], {})\n",
    "\n",
    "                # store image and path under each author\n",
    "                licenses[photo['license_code']][photo['attribution']][f'{taxon}-{url.split(\"/\")[-2]}-{url.split(\"/\")[-1]}'] = url\n",
    "\n",
    "            ct-=1\n",
    "        # get the next page\n",
    "        page+=1\n",
    "        x = requests.get(f\"https://api.inaturalist.org/v1/observations?photos=true&q={taxon}&search_on=names&quality_grade=research&order=desc&order_by=created_at&per_page=100&page={page}\")\n",
    "        x = x.json()\n",
    "    \n",
    "    return licenses\n",
    "\n",
    "    "
   ]
  },
  {
   "cell_type": "code",
   "execution_count": null,
   "metadata": {},
   "outputs": [],
   "source": [
    "get_taxon('woronichinia', base='test')"
   ]
  },
  {
   "cell_type": "code",
   "execution_count": null,
   "metadata": {},
   "outputs": [],
   "source": [
    "# for f in os.listdir('test/oscillatoria'):\n",
    "#     if not f in os.listdir('images/oscillatoria'):\n",
    "#         print(f)\n",
    "\n",
    "# for f in os.listdir('images/oscillatoria'):\n",
    "#     if not f in os.listdir('test/oscillatoria'):\n",
    "#         print(f)\n",
    "\n",
    "# for f in os.listdir('images/aphanizomenon'):\n",
    "#     if not f in os.listdir('test/aphanizomenon'):\n",
    "#         print(f)\n",
    "\n",
    "\n",
    "for f in os.listdir('images/woronichinia'):\n",
    "    if not f in os.listdir('test/woronichinia'):\n",
    "        print(f)"
   ]
  },
  {
   "cell_type": "code",
   "execution_count": null,
   "metadata": {},
   "outputs": [],
   "source": [
    "print(len(os.listdir('images/microcystis')))"
   ]
  },
  {
   "cell_type": "code",
   "execution_count": null,
   "metadata": {},
   "outputs": [],
   "source": [
    "# rename every file to the name of its encompassing folder\n",
    "def rename_files():\n",
    "    for species_name in os.listdir('images'):\n",
    "        path = f'images/{species_name}'\n",
    "        for filename in os.listdir(path):\n",
    "            os.rename(f'{path}/{filename}', f'{path}/{species_name}-{filename}')"
   ]
  },
  {
   "cell_type": "code",
   "execution_count": null,
   "metadata": {},
   "outputs": [],
   "source": [
    "rename_files()"
   ]
  },
  {
   "cell_type": "code",
   "execution_count": null,
   "metadata": {},
   "outputs": [],
   "source": [
    "s = \"microcystis\"\n",
    "\n",
    "for species in s.split(\" \"):\n",
    "    print(species)\n",
    "    get_species(species, \"original\")"
   ]
  },
  {
   "cell_type": "code",
   "execution_count": null,
   "metadata": {},
   "outputs": [],
   "source": [
    "def get_primary_images():\n",
    "    # retrieve online images\n",
    "\n",
    "    # remove all images from images folder\n",
    "    for genus in os.listdir('images'):\n",
    "        if genus == '.DS_Store':\n",
    "            continue\n",
    "        shutil.rmtree(f'images/{genus}')\n",
    "        os.makedirs(f'images/{genus}')\n",
    "\n",
    "    # get images from b_ds\n",
    "    for c in os.listdir(\"b_ds\"):\n",
    "        if c == \"test\" or c == \"train\" or c == \"valid\":\n",
    "            for image in os.listdir(f\"b_ds/{c}/images\"):\n",
    "                name, ext = os.path.splitext(image)\n",
    "                if 'WaterBubble' in name:\n",
    "                    shutil.copy(f\"b_ds/{c}/images/{image}\", f\"images/water_bubble/{image}\")\n",
    "                elif 'Detritus' in name:\n",
    "                    shutil.copy(f\"b_ds/{c}/images/{image}\", f\"images/detritus/{image}\")\n",
    "                \n",
    "    # get stuff from Bacteria \n",
    "\n",
    "\n",
    "    for genus in os.listdir('Bacteria Dataset/Dataset-1'):\n",
    "        if genus == '.DS_Store' or not (genus in names):\n",
    "            continue\n",
    "\n",
    "        for img in os.listdir(f'Bacteria Dataset/Dataset-1/{genus}'):\n",
    "            if img == '.DS_Store':\n",
    "                continue\n",
    "            # move image to respective folders\n",
    "            im = Image.open(f'Bacteria Dataset/Dataset-1/{genus}/{img}')\n",
    "            try:\n",
    "                rgb_im = im.convert('RGB')\n",
    "                rgb_im.save(f'images/{genus}/{img[:-4]}_lab.jpg')\n",
    "            except:\n",
    "                print(\"failed\")\n",
    "                print(img)\n",
    "\n",
    "            # shutil.copy(f'Bacteria Dataset/Dataset-1/{genus}/{img}', f'images/{genus}/{img[:-4]}_lab.jpg')\n",
    "\n",
    "    for genus in os.listdir('Bacteria Dataset/Dataset-2'):\n",
    "        if genus == '.DS_Store' or not (genus in names):\n",
    "            continue\n",
    "        \n",
    "        for img in os.listdir(f'Bacteria Dataset/Dataset-2/{genus}'):\n",
    "            if img == '.DS_Store':\n",
    "                continue\n",
    "            # move image to respective folders\n",
    "\n",
    "            im = Image.open(f'Bacteria Dataset/Dataset-2/{genus}/{img}')\n",
    "            try:\n",
    "                rgb_im = im.convert('RGB')\n",
    "                rgb_im.save(f'images/{genus}/{img[:-4]}_lab.jpg')\n",
    "            except:\n",
    "                print(\"failed\")\n",
    "                print(img)\n",
    "\n",
    "        # shutil.copy(f'Bacteria Dataset/Dataset-2/{genus}/{img}', f'images/{genus}/{img[:-4]}_lab.jpg')\n",
    "    add_backgrounds()\n",
    "\n",
    "    licenses = {}\n",
    "    primary_genuses = ['aphanizomenon', 'dolichospermum', 'microcystis', 'oscillatoria', 'woronichinia']\n",
    "    for genus in primary_genuses:\n",
    "        print(genus)\n",
    "        licenses = get_taxon(genus, licenses, remove=False)\n",
    "\n",
    "        print(\"num at end\", len(os.listdir(f'images/{genus}')))\n",
    "    \n",
    "    # save licenses to file\n",
    "    with open('licenses.json', 'w') as fp:\n",
    "        json.dump(licenses, fp)\n",
    "    \n"
   ]
  },
  {
   "cell_type": "code",
   "execution_count": null,
   "metadata": {},
   "outputs": [],
   "source": [
    "add_backgrounds()"
   ]
  },
  {
   "cell_type": "code",
   "execution_count": null,
   "metadata": {},
   "outputs": [],
   "source": [
    "get_primary_images()"
   ]
  },
  {
   "cell_type": "code",
   "execution_count": null,
   "metadata": {},
   "outputs": [],
   "source": [
    "print(len(os.listdir('images/microcystis')))\n",
    "print(len(os.listdir('images/aphanizomenon')))\n",
    "print(len(os.listdir('images/dolichospermum')))\n",
    "print(len(os.listdir('images/oscillatoria')))\n",
    "print(len(os.listdir('images/woronichinia')))\n",
    "print(len(os.listdir('images/detritus')))\n",
    "print(len(os.listdir('images/water_bubble')))\n",
    "\n",
    "print(len(os.listdir('images/microcystis')) + len(os.listdir('images/aphanizomenon')) + len(os.listdir('images/dolichospermum')) + len(os.listdir('images/oscillatoria')) + len(os.listdir('images/woronichinia')) + len(os.listdir('images/detritus')) + len(os.listdir('images/water_bubble')) + len(os.listdir('images/backgrounds')))"
   ]
  },
  {
   "cell_type": "code",
   "execution_count": null,
   "metadata": {},
   "outputs": [],
   "source": []
  },
  {
   "cell_type": "code",
   "execution_count": null,
   "metadata": {},
   "outputs": [],
   "source": [
    "\n",
    "for genus in os.listdir('Bacteria Dataset/Dataset-1'):\n",
    "    if genus == '.DS_Store' or not (genus in names):\n",
    "        continue\n",
    "\n",
    "    for img in os.listdir(f'Bacteria Dataset/Dataset-1/{genus}'):\n",
    "        if img == '.DS_Store':\n",
    "            continue\n",
    "        # move image to respective folders\n",
    "        im = Image.open(f'Bacteria Dataset/Dataset-1/{genus}/{img}')\n",
    "        try:\n",
    "            rgb_im = im.convert('RGB')\n",
    "            rgb_im.save(f'images/{genus}/{img[:-4]}_lab.jpg')\n",
    "        except:\n",
    "            print(\"failed\")\n",
    "            print(img)\n",
    "\n",
    "        # shutil.copy(f'Bacteria Dataset/Dataset-1/{genus}/{img}', f'images/{genus}/{img[:-4]}_lab.jpg')\n",
    "\n",
    "for genus in os.listdir('Bacteria Dataset/Dataset-2'):\n",
    "    if genus == '.DS_Store' or not (genus in names):\n",
    "        continue\n",
    "    \n",
    "    for img in os.listdir(f'Bacteria Dataset/Dataset-2/{genus}'):\n",
    "        if img == '.DS_Store':\n",
    "            continue\n",
    "        # move image to respective folders\n",
    "\n",
    "        im = Image.open(f'Bacteria Dataset/Dataset-2/{genus}/{img}')\n",
    "        try:\n",
    "            rgb_im = im.convert('RGB')\n",
    "            rgb_im.save(f'images/{genus}/{img[:-4]}_lab.jpg')\n",
    "        except:\n",
    "            print(\"failed\")\n",
    "            print(img)\n",
    "\n",
    "        # shutil.copy(f'Bacteria Dataset/Dataset-2/{genus}/{img}', f'images/{genus}/{img[:-4]}_lab.jpg')"
   ]
  },
  {
   "cell_type": "code",
   "execution_count": null,
   "metadata": {},
   "outputs": [],
   "source": [
    "get_primary_images()"
   ]
  },
  {
   "cell_type": "code",
   "execution_count": null,
   "metadata": {},
   "outputs": [],
   "source": [
    "get_taxon('oscillatoria', useNums=True)"
   ]
  },
  {
   "cell_type": "code",
   "execution_count": null,
   "metadata": {},
   "outputs": [],
   "source": [
    "print(len(os.listdir('images/oscillatoria')))"
   ]
  },
  {
   "cell_type": "code",
   "execution_count": null,
   "metadata": {},
   "outputs": [],
   "source": [
    "print(len(os.listdir('images/microcystis')))\n",
    "print(len(os.listdir('images/aphanizomenon')))\n",
    "print(len(os.listdir('images/dolichospermum')))\n",
    "print(len(os.listdir('images/oscillatoria')))\n",
    "print(len(os.listdir('images/woronichinia')))\n",
    "print(len(os.listdir('images/aphanizomenon')) + len(os.listdir('images/microcystis')) + len(os.listdir('images/dolichospermum')) + len(os.listdir('images/oscillatoria')) + len(os.listdir('images/woronichinia')))\n",
    "\n",
    "print(len(os.listdir('final_ds/train/images')) + len(os.listdir('final_ds/test/images')) + len(os.listdir('final_ds/valid/images')))"
   ]
  },
  {
   "cell_type": "code",
   "execution_count": null,
   "metadata": {},
   "outputs": [],
   "source": [
    "add_backgrounds()"
   ]
  },
  {
   "cell_type": "code",
   "execution_count": null,
   "metadata": {},
   "outputs": [],
   "source": [
    "# convert licenses to pandas dataframe\n",
    "df = pd.DataFrame(licenses).T\n",
    "df.to_csv('licenses.csv')"
   ]
  },
  {
   "cell_type": "code",
   "execution_count": null,
   "metadata": {},
   "outputs": [],
   "source": [
    "ct = 0\n",
    "for license_type in licenses.keys():\n",
    "    print(license_type)\n",
    "    if license_type == None:\n",
    "        continue\n",
    "    \n",
    "    for author in licenses[license_type].keys():\n",
    "        # print(author)\n",
    "        for image in licenses[license_type][author].keys():\n",
    "            # print(image)\n",
    "            if image.split('-')[0] in names:\n",
    "                ct+=1\n",
    "\n",
    "\n",
    "# count bacteria dataset images\n",
    "\n",
    "\n",
    "print(ct)"
   ]
  },
  {
   "cell_type": "code",
   "execution_count": null,
   "metadata": {},
   "outputs": [],
   "source": [
    "# count number of Nones\n",
    "ct = 0\n",
    "for license_type in licenses.keys():\n",
    "    if license_type == \"null\":\n",
    "        for author in licenses[license_type].keys():\n",
    "            for image in licenses[license_type][author].keys():\n",
    "                ct+=1\n",
    "\n",
    "print(ct)"
   ]
  },
  {
   "cell_type": "code",
   "execution_count": null,
   "metadata": {},
   "outputs": [],
   "source": []
  },
  {
   "cell_type": "code",
   "execution_count": null,
   "metadata": {},
   "outputs": [],
   "source": [
    "print(\"tolypothrix\" in names)"
   ]
  },
  {
   "cell_type": "code",
   "execution_count": null,
   "metadata": {},
   "outputs": [],
   "source": [
    "df"
   ]
  },
  {
   "cell_type": "code",
   "execution_count": null,
   "metadata": {},
   "outputs": [],
   "source": [
    "# count how many images are in \"None\"\n",
    "for l in licenses:\n",
    "    x = 0\n",
    "    for a in licenses[l]:\n",
    "        x+=len(licenses[l][a])\n",
    "    print(l, x)"
   ]
  },
  {
   "cell_type": "code",
   "execution_count": null,
   "metadata": {},
   "outputs": [],
   "source": [
    "x = 0\n",
    "for genus in os.listdir('images'):\n",
    "    print(genus, len(os.listdir(f'images/{genus}')))\n",
    "    if genus in names:\n",
    "        x+=len(os.listdir(f'images/{genus}'))\n",
    "\n",
    "print(x)"
   ]
  },
  {
   "cell_type": "code",
   "execution_count": null,
   "metadata": {},
   "outputs": [],
   "source": [
    "# load licenses.json\n",
    "with open('licenses.json') as f:\n",
    "    licenses = json.load(f)\n",
    "\n",
    "cannot_use = set([])\n",
    "for l, vals in licenses.items():\n",
    "    if l == 'null':\n",
    "        print(licenses[l])\n",
    "        for name, images in licenses[l].items():\n",
    "            for img_name, url in images.items():\n",
    "                cannot_use.add(img_name)\n",
    "\n",
    "print(len(cannot_use))"
   ]
  },
  {
   "cell_type": "code",
   "execution_count": null,
   "metadata": {},
   "outputs": [],
   "source": [
    "print(cannot_use)"
   ]
  },
  {
   "cell_type": "code",
   "execution_count": null,
   "metadata": {},
   "outputs": [],
   "source": [
    "print(cannot_use)\n",
    "\n",
    "# remove images that cannot be used\n",
    "for genus in os.listdir('images'):\n",
    "    for img in os.listdir(f'images/{genus}'):\n",
    "        if img in cannot_use:\n",
    "            shutil.move(f'images/{genus}/{img}', f'cannot_use/{img}')"
   ]
  },
  {
   "cell_type": "code",
   "execution_count": null,
   "metadata": {},
   "outputs": [],
   "source": [
    "info_oscillatoria = get_taxon(\"oscillatoria\")"
   ]
  },
  {
   "cell_type": "code",
   "execution_count": null,
   "metadata": {},
   "outputs": [],
   "source": [
    "print(len(os.listdir('images/oscillatoria')) + len(os.listdir('images/microcystis')) + len(os.listdir('images/dolichospermum')) + len(os.listdir('images/aphanizomenon')) + len(os.listdir('images/woronichinia')))"
   ]
  },
  {
   "cell_type": "code",
   "execution_count": null,
   "metadata": {},
   "outputs": [],
   "source": [
    "for k, v in info_oscillatoria[None].items():\n",
    "    print(k)\n",
    "    print(v)"
   ]
  },
  {
   "cell_type": "code",
   "execution_count": null,
   "metadata": {},
   "outputs": [],
   "source": [
    "info_micro = get_taxon(\"microcystis\")"
   ]
  },
  {
   "cell_type": "code",
   "execution_count": null,
   "metadata": {},
   "outputs": [],
   "source": [
    "print(len(os.listdir('images/microcystis')))"
   ]
  },
  {
   "cell_type": "code",
   "execution_count": null,
   "metadata": {},
   "outputs": [],
   "source": [
    "print(len(os.listdir('images/oscillatoria')))\n",
    "print(len(os.listdir('org_ds/oscillatoria')))"
   ]
  },
  {
   "cell_type": "code",
   "execution_count": null,
   "metadata": {},
   "outputs": [],
   "source": []
  },
  {
   "cell_type": "code",
   "execution_count": null,
   "metadata": {},
   "outputs": [],
   "source": [
    "license_temp = licenses\n",
    "print(license_temp)\n",
    "# check if images in images/microcystis are within"
   ]
  },
  {
   "cell_type": "code",
   "execution_count": null,
   "metadata": {},
   "outputs": [],
   "source": [
    "# CROPPING FOR NOW BUT IN THE FUTURE MAYBE USE CROPPED SEGMENTS?\n",
    "# print(cv2.imread('images/Microcystis aeruginosa/2218866-medium.jpg').shape)\n",
    "def crop_center(pil_img, crop_width, crop_height):\n",
    "    img_width, img_height = pil_img.size\n",
    "    return pil_img.crop(((img_width - crop_width) // 2,\n",
    "                         (img_height - crop_height) // 2,\n",
    "                         (img_width + crop_width) // 2,\n",
    "                         (img_height + crop_height) // 2))\n",
    "\n",
    "def resize_images(name):\n",
    "    di = {}\n",
    "    if not os.path.exists(f'images/{name}-resized'):\n",
    "        os.makedirs(f'images/{name}-resized')\n",
    "    for file in os.listdir(f'images/{name}'):\n",
    "        print(file)\n",
    "        img = cv2.imread(f'images/{name}/{file}')\n",
    "        if img is None:\n",
    "            di['None'] = di.get('None', 0) + 1\n",
    "        else:\n",
    "            image = Image.open(f'images/{name}/{file}')\n",
    "            # image.save('original.jpg')\n",
    "            # crop image to a square\n",
    "            width, height = image.size\n",
    "            # resize to the smallest dimension out of width & height to maintain square\n",
    "            image = crop_center(image, min(width, height), min(width, height))\n",
    "            rgb_im = image.convert('RGB')\n",
    "            # image = image.resize((416, 416))\n",
    "\n",
    "            # save the resized image\n",
    "            file = file.split(\"-\")[0] + \".jpg\"\n",
    "            rgb_im.save(f'images/{name}-resized/{file}')\n",
    "            # break\n"
   ]
  }
 ],
 "metadata": {
  "kernelspec": {
   "display_name": "webscrape",
   "language": "python",
   "name": "python3"
  },
  "language_info": {
   "codemirror_mode": {
    "name": "ipython",
    "version": 3
   },
   "file_extension": ".py",
   "mimetype": "text/x-python",
   "name": "python",
   "nbconvert_exporter": "python",
   "pygments_lexer": "ipython3",
   "version": "3.9.15"
  },
  "vscode": {
   "interpreter": {
    "hash": "5bdfdf4a94b9d78a182717dc0316f3be25f7fd9c7cebd817f0c3b8d29721d43f"
   }
  }
 },
 "nbformat": 4,
 "nbformat_minor": 2
}
