{
 "cells": [
  {
   "cell_type": "code",
   "execution_count": null,
   "metadata": {},
   "outputs": [],
   "source": [
    "import requests\n",
    "import json\n",
    "import os\n",
    "import cv2\n",
    "from PIL import Image\n"
   ]
  },
  {
   "cell_type": "code",
   "execution_count": null,
   "metadata": {},
   "outputs": [],
   "source": [
    "x = requests.get(\"https://api.inaturalist.org/v1/observations/q=Chroococcus&ofv=observation_field_id:magnification\")\n",
    "x = x.json()\n",
    "print(x)\n",
    "# for key in x.keys():\n",
    "#     print(key)\n",
    "# print(\"----\")\n",
    "# for key in x['results'][0].keys():\n",
    "#     print(key)\n",
    "\n",
    "# for key in x['results'][0][''].keys():\n",
    "#     print(key)\n",
    "\n",
    "# print(x['results'][0]['photos'])"
   ]
  },
  {
   "cell_type": "code",
   "execution_count": null,
   "metadata": {},
   "outputs": [],
   "source": [
    "# get total number of items\n",
    "# size: square, medium, large\n",
    "def get_species(species_name, size):\n",
    "    x = requests.get(f\"https://api.inaturalist.org/v1/observations?photos=true&q={species_name}&search_on=names&quality_grade=research&order=desc&order_by=created_at&per_page=100&page=1\")\n",
    "    x = x.json()\n",
    "\n",
    "    ct = int(x['total_results']) # counter for number of images to collect\n",
    "    curr_page = 1\n",
    "\n",
    "    l = 0\n",
    "    urls = []\n",
    "    if not os.path.exists(f'images/{species_name}'):\n",
    "        os.makedirs(f'images/{species_name}')\n",
    "        while len(x['results']) != 0:\n",
    "            print(len(x['results'])) # 100 results per page\n",
    "            for result in x['results']:\n",
    "                res = result['photos']\n",
    "                for i in range(len(res)):\n",
    "                    res[i] = res[i]['url']\n",
    "                    # res[i] = res[i].index(\"square\")\n",
    "                    res[i] = res[i].replace(\"square\", size)\n",
    "                    urls.append(res[i])\n",
    "                    file = open(f'images/{species_name}/{species_name}-{res[i].split(\"/\")[-2]}-{res[i].split(\"/\")[-1]}', 'wb')\n",
    "                    file.write(requests.get(res[i]).content)\n",
    "                    file.close()\n",
    "                ct-=1\n",
    "            # get the next page\n",
    "            curr_page+=1\n",
    "            x = requests.get(f\"https://api.inaturalist.org/v1/observations?photos=true&q={species_name}&search_on=names&quality_grade=research&order=desc&order_by=created_at&per_page=100&page={curr_page}\")\n",
    "            x = x.json()\n",
    "    \n",
    "    return urls\n",
    "\n",
    "    "
   ]
  },
  {
   "cell_type": "code",
   "execution_count": null,
   "metadata": {},
   "outputs": [],
   "source": [
    "# rename every file to the name of its encompassing folder\n",
    "def rename_files():\n",
    "    for species_name in os.listdir('images'):\n",
    "        path = f'images/{species_name}'\n",
    "        for filename in os.listdir(path):\n",
    "            os.rename(f'{path}/{filename}', f'{path}/{species_name}-{filename}')"
   ]
  },
  {
   "cell_type": "code",
   "execution_count": null,
   "metadata": {},
   "outputs": [],
   "source": [
    "rename_files()"
   ]
  },
  {
   "cell_type": "code",
   "execution_count": null,
   "metadata": {},
   "outputs": [],
   "source": [
    "s = \"limnoraphis\"\n",
    "\n",
    "for species in s.split(\" \"):\n",
    "    print(species)\n",
    "    try:\n",
    "        get_species(species, \"original\")\n",
    "    except:\n",
    "        continue"
   ]
  },
  {
   "cell_type": "code",
   "execution_count": null,
   "metadata": {},
   "outputs": [],
   "source": [
    "ccc = []\n",
    "get_species(\"oocystis\", \"original\")"
   ]
  },
  {
   "cell_type": "code",
   "execution_count": null,
   "metadata": {},
   "outputs": [],
   "source": [
    "# Microcystis%20aeruginosa\n",
    "ignore = set(['.DS_Store', 'FlowCam Library 2021','FlowCam Library Instructions.docx', 'nostoc', 'rivularia', 'merismopedia','aphanothece', 'microcystis','planktolyngbya'])\n",
    "for species_name in os.listdir('Bacteria Dataset/Dataset-1'):\n",
    "    if species_name in ignore:\n",
    "        continue\n",
    "    print(species_name)\n",
    "    urls = get_species(species_name, \"original\")\n",
    "    print(len(urls))\n",
    "    print(urls[:5])\n",
    "\n",
    "for species_name in os.listdir('Bacteria Dataset/Dataset-2'):\n",
    "    if species_name in ignore:\n",
    "        continue\n",
    "    print(species_name)\n",
    "    urls = get_species(species_name, \"original\")\n",
    "    print(len(urls))\n",
    "    print(urls[:5])"
   ]
  },
  {
   "cell_type": "code",
   "execution_count": null,
   "metadata": {},
   "outputs": [],
   "source": [
    "di = {}\n",
    "for file in os.listdir(f'images/Microcystis aeruginosa'):\n",
    "    print(file)\n",
    "    img = cv2.imread(f'images/Microcystis aeruginosa/{file}')\n",
    "    if img is None:\n",
    "        di['None'] = di.get('None', 0) + 1\n",
    "    else:\n",
    "        di[img.shape] = di.get(img.shape, 0) + 1"
   ]
  },
  {
   "cell_type": "code",
   "execution_count": null,
   "metadata": {},
   "outputs": [],
   "source": [
    "print(di)"
   ]
  },
  {
   "cell_type": "code",
   "execution_count": null,
   "metadata": {},
   "outputs": [],
   "source": [
    "# CROPPING FOR NOW BUT IN THE FUTURE MAYBE USE CROPPED SEGMENTS?\n",
    "# print(cv2.imread('images/Microcystis aeruginosa/2218866-medium.jpg').shape)\n",
    "def crop_center(pil_img, crop_width, crop_height):\n",
    "    img_width, img_height = pil_img.size\n",
    "    return pil_img.crop(((img_width - crop_width) // 2,\n",
    "                         (img_height - crop_height) // 2,\n",
    "                         (img_width + crop_width) // 2,\n",
    "                         (img_height + crop_height) // 2))\n",
    "\n",
    "def resize_images(name):\n",
    "    di = {}\n",
    "    if not os.path.exists(f'images/{name}-resized'):\n",
    "        os.makedirs(f'images/{name}-resized')\n",
    "    for file in os.listdir(f'images/{name}'):\n",
    "        print(file)\n",
    "        img = cv2.imread(f'images/{name}/{file}')\n",
    "        if img is None:\n",
    "            di['None'] = di.get('None', 0) + 1\n",
    "        else:\n",
    "            image = Image.open(f'images/{name}/{file}')\n",
    "            # image.save('original.jpg')\n",
    "            # crop image to a square\n",
    "            width, height = image.size\n",
    "            # resize to the smallest dimension out of width & height to maintain square\n",
    "            image = crop_center(image, min(width, height), min(width, height))\n",
    "            rgb_im = image.convert('RGB')\n",
    "            # image = image.resize((416, 416))\n",
    "\n",
    "            # save the resized image\n",
    "            file = file.split(\"-\")[0] + \".jpg\"\n",
    "            rgb_im.save(f'images/{name}-resized/{file}')\n",
    "            # break\n"
   ]
  },
  {
   "cell_type": "code",
   "execution_count": null,
   "metadata": {},
   "outputs": [],
   "source": [
    "resize_images(\"Microcystis aeruginosa\")"
   ]
  },
  {
   "cell_type": "code",
   "execution_count": null,
   "metadata": {},
   "outputs": [],
   "source": [
    "resize_images(\"crucigenia\")\n",
    "resize_images(\"chroococcus\")"
   ]
  }
 ],
 "metadata": {
  "kernelspec": {
   "display_name": "webscrape",
   "language": "python",
   "name": "python3"
  },
  "language_info": {
   "codemirror_mode": {
    "name": "ipython",
    "version": 3
   },
   "file_extension": ".py",
   "mimetype": "text/x-python",
   "name": "python",
   "nbconvert_exporter": "python",
   "pygments_lexer": "ipython3",
   "version": "3.9.15"
  },
  "vscode": {
   "interpreter": {
    "hash": "5bdfdf4a94b9d78a182717dc0316f3be25f7fd9c7cebd817f0c3b8d29721d43f"
   }
  }
 },
 "nbformat": 4,
 "nbformat_minor": 2
}
