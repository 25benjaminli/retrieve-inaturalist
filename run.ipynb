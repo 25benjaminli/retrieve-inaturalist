{
 "cells": [
  {
   "cell_type": "code",
   "execution_count": 17,
   "metadata": {},
   "outputs": [],
   "source": [
    "import requests\n",
    "import json\n",
    "import os\n",
    "\n"
   ]
  },
  {
   "cell_type": "code",
   "execution_count": 22,
   "metadata": {},
   "outputs": [],
   "source": [
    "# get total number of items\n",
    "def get_species(species_name):\n",
    "    x = requests.get(f\"https://api.inaturalist.org/v1/observations?photos=true&q={species_name}&search_on=names&quality_grade=research&order=desc&order_by=created_at&per_page=100&page=1\")\n",
    "    x = x.json()\n",
    "\n",
    "    ct = int(x['total_results']) # counter for number of images to collect\n",
    "    curr_page = 1\n",
    "\n",
    "    l = 0\n",
    "    urls = []\n",
    "    if not os.path.exists(f'images/{species_name}'):\n",
    "        os.makedirs(f'images/{species_name}')\n",
    "    while len(x['results']) != 0:\n",
    "        print(len(x['results'])) # 100 results per page\n",
    "        for result in x['results']:\n",
    "            res = result['photos']\n",
    "            for i in range(len(res)):\n",
    "                res[i] = res[i]['url']\n",
    "                # res[i] = res[i].index(\"square\")\n",
    "                res[i] = res[i].replace(\"square\", \"medium\")\n",
    "                urls.append(res[i])\n",
    "                file = open(f'images/{species_name}/{res[i].split(\"/\")[-2]}-{res[i].split(\"/\")[-1]}', 'wb')\n",
    "                file.write(requests.get(res[i]).content)\n",
    "                file.close()\n",
    "            ct-=1\n",
    "        # get the next page\n",
    "        curr_page+=1\n",
    "        x = requests.get(f\"https://api.inaturalist.org/v1/observations?photos=true&q={species_name}&search_on=names&quality_grade=research&order=desc&order_by=created_at&per_page=100&page={curr_page}\")\n",
    "        x = x.json()\n",
    "    return urls\n",
    "\n",
    "    "
   ]
  },
  {
   "cell_type": "code",
   "execution_count": 24,
   "metadata": {},
   "outputs": [
    {
     "name": "stdout",
     "output_type": "stream",
     "text": [
      "100\n",
      "100\n"
     ]
    }
   ],
   "source": [
    "# Microcystis%20aeruginosa\n",
    "urls = get_species(\"Microcystis aeruginosa\")\n",
    "print(len(urls))\n",
    "print(urls[:5])"
   ]
  }
 ],
 "metadata": {
  "kernelspec": {
   "display_name": "webscrape",
   "language": "python",
   "name": "python3"
  },
  "language_info": {
   "codemirror_mode": {
    "name": "ipython",
    "version": 3
   },
   "file_extension": ".py",
   "mimetype": "text/x-python",
   "name": "python",
   "nbconvert_exporter": "python",
   "pygments_lexer": "ipython3",
   "version": "3.9.15"
  },
  "orig_nbformat": 4,
  "vscode": {
   "interpreter": {
    "hash": "5bdfdf4a94b9d78a182717dc0316f3be25f7fd9c7cebd817f0c3b8d29721d43f"
   }
  }
 },
 "nbformat": 4,
 "nbformat_minor": 2
}
