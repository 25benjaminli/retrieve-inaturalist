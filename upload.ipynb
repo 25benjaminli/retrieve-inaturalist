{
 "cells": [
  {
   "cell_type": "code",
   "execution_count": null,
   "metadata": {},
   "outputs": [],
   "source": [
    "# importing the roboflow Python Package\n",
    "from roboflow import Roboflow\n",
    "import os\n",
    "import tqdm\n",
    "# creating the Roboflow object\n",
    "# obtaining your API key: https://docs.roboflow.com/rest-api#obtaining-your-api-key\n",
    "rf = Roboflow(api_key=\"KreVf2gonILXMSthIxLL\")\n",
    "\n",
    "# using the workspace method on the Roboflow object\n",
    "project = rf.workspace(\"bacteria-detection\").project(\"final_bacteria\")"
   ]
  },
  {
   "cell_type": "code",
   "execution_count": null,
   "metadata": {},
   "outputs": [],
   "source": [
    "\n",
    "for genus in os.listdir(\"images\"):\n",
    "    if genus == \".DS_Store\":\n",
    "        continue\n",
    "    for image in tqdm.tqdm(os.listdir(f\"images/{genus}\")):\n",
    "        # print(f\"images/{genus}/{image}\")\n",
    "        try:\n",
    "            project.upload(f\"images/{genus}/{image}\", num_retry_uploads=3)\n",
    "        except Exception as e:\n",
    "            print(f\"Failed to upload {image}\")\n",
    "            print(e)\n",
    "            continue"
   ]
  },
  {
   "cell_type": "code",
   "execution_count": null,
   "metadata": {},
   "outputs": [],
   "source": [
    "\n",
    "for genus in os.listdir(\"images\"):\n",
    "    if genus == \".DS_Store\":\n",
    "        continue\n",
    "    for image in tqdm.tqdm(os.listdir(f\"images/{genus}\")):\n",
    "        # print(f\"images/{genus}/{image}\")\n",
    "        try:\n",
    "            project.upload(f\"images/{genus}/{image}\", num_retry_uploads=3)\n",
    "        except Exception as e:\n",
    "            print(f\"Failed to upload {image}\")\n",
    "            print(e)\n",
    "            continue"
   ]
  }
 ],
 "metadata": {
  "kernelspec": {
   "display_name": "webscrape",
   "language": "python",
   "name": "python3"
  },
  "language_info": {
   "codemirror_mode": {
    "name": "ipython",
    "version": 3
   },
   "file_extension": ".py",
   "mimetype": "text/x-python",
   "name": "python",
   "nbconvert_exporter": "python",
   "pygments_lexer": "ipython3",
   "version": "3.9.15"
  }
 },
 "nbformat": 4,
 "nbformat_minor": 2
}
